{
 "cells": [
  {
   "cell_type": "code",
   "execution_count": 1,
   "metadata": {},
   "outputs": [],
   "source": [
    "import numpy as np\n",
    "import matplotlib.pyplot as plt\n",
    "%matplotlib inline"
   ]
  },
  {
   "cell_type": "code",
   "execution_count": 2,
   "metadata": {},
   "outputs": [],
   "source": [
    "def knapsack_recursive(items, C):\n",
    "    \"\"\"\n",
    "    items: a list of (weight, value) pairs\n",
    "    C: the maximum total weight\n",
    "    \n",
    "    Returns (best value, list of items in a solution)\n",
    "    \"\"\"\n",
    "    if len(items) == 0:\n",
    "        return (0, [])\n",
    "    w, v = items[0]\n",
    "    soln_without = knapsack_recursive(items[1:], C)\n",
    "    if w > C:\n",
    "        return soln_without\n",
    "    else:\n",
    "        value, choices = knapsack_recursive(items[1:], C - w)\n",
    "        soln_with = (value + v, [(w, v)] + choices)\n",
    "        return max(soln_with, soln_without)    "
   ]
  },
  {
   "cell_type": "code",
   "execution_count": 3,
   "metadata": {},
   "outputs": [
    {
     "name": "stdout",
     "output_type": "stream",
     "text": [
      "(0, [])\n",
      "(9, [(3, 4), (6, 5)])\n",
      "(10, [(3, 4), (5, 4), (1, 2)])\n"
     ]
    }
   ],
   "source": [
    "# Check on some examples.\n",
    "\n",
    "items = [(3,4)]\n",
    "print(knapsack_recursive(items, 2))\n",
    "items = [(3,4), (5,4), (6,5), (9,7)]\n",
    "print(knapsack_recursive(items, 9))\n",
    "items = [(3,4), (5,4), (6,5), (9,7), (1,2)]\n",
    "print(knapsack_recursive(items, 9))\n"
   ]
  },
  {
   "cell_type": "code",
   "execution_count": 4,
   "metadata": {},
   "outputs": [
    {
     "name": "stdout",
     "output_type": "stream",
     "text": [
      "n = 1:\n",
      "2.47 µs ± 23.2 ns per loop (mean ± std. dev. of 7 runs, 100000 loops each)\n",
      "n = 10:\n",
      "583 µs ± 7.99 µs per loop (mean ± std. dev. of 7 runs, 1000 loops each)\n",
      "n = 15:\n",
      "18.4 ms ± 323 µs per loop (mean ± std. dev. of 7 runs, 100 loops each)\n",
      "n = 20:\n",
      "573 ms ± 66.1 ms per loop (mean ± std. dev. of 7 runs, 1 loop each)\n",
      "n = 21:\n",
      "1.11 s ± 141 ms per loop (mean ± std. dev. of 7 runs, 1 loop each)\n"
     ]
    }
   ],
   "source": [
    "#How does this scale? let's try random instances:\n",
    "import random\n",
    "\n",
    "def make_instance(n, maxW, maxV):\n",
    "    items = [(random.randint(1, maxW), random.randint(1, maxV)) for _ in range(n)]\n",
    "    # Capacity such that we will take Theta(n) items\n",
    "    C = n*maxW // 3\n",
    "    return (items, C)\n",
    "\n",
    "for n in [1, 10, 15, 20, 21]:\n",
    "    print(f\"n = {n}:\")\n",
    "    %timeit knapsack_recursive(*make_instance(n, 1000,1000))"
   ]
  },
  {
   "cell_type": "code",
   "execution_count": 5,
   "metadata": {},
   "outputs": [],
   "source": [
    "# Let's try the same `memoize` as pset 1\n",
    "# (slightly modified to work with mutable inputs)\n",
    "import functools\n",
    "import pickle\n",
    "\n",
    "def memoize(f):\n",
    "    \"\"\"This can turn any recursive function into a memoized version.\"\"\"\n",
    "    cache = {}\n",
    "    @functools.wraps(f)\n",
    "    def wrap(*args):\n",
    "        args_hash = pickle.dumps(args)\n",
    "        if args_hash not in cache:\n",
    "            cache[args_hash] = f(*args)  \n",
    "        return cache[args_hash]\n",
    "    wrap.cache = cache                #so we can clear it as needed\n",
    "    return wrap"
   ]
  },
  {
   "cell_type": "code",
   "execution_count": 6,
   "metadata": {},
   "outputs": [
    {
     "name": "stdout",
     "output_type": "stream",
     "text": [
      "159 ms ± 4.16 ms per loop (mean ± std. dev. of 7 runs, 1 loop each)\n"
     ]
    }
   ],
   "source": [
    "# BAM, suddenly \"knapsack_recursive\" is memoized.\n",
    "knapsack_recursive = memoize(knapsack_recursive)\n",
    "\n",
    "%timeit -n 1 knapsack_recursive(*make_instance(21, 1000,1000))"
   ]
  },
  {
   "cell_type": "code",
   "execution_count": 7,
   "metadata": {},
   "outputs": [],
   "source": [
    "# OK, there's an issue with using @memoize for timing, which is that the cache is shared\n",
    "# across multiple calls.  This creates a new function, knapsack_memoized, that clears\n",
    "# the cache.\n",
    "\n",
    "@functools.wraps(knapsack_recursive)\n",
    "def knapsack_memoized(*args):\n",
    "    knapsack_recursive.cache = {}\n",
    "    return knapsack_recursive(*args)"
   ]
  },
  {
   "cell_type": "code",
   "execution_count": 8,
   "metadata": {},
   "outputs": [
    {
     "name": "stdout",
     "output_type": "stream",
     "text": [
      "(10, [(3, 4), (5, 4), (1, 2)])\n",
      "n = 1:\n",
      "4.35 µs ± 147 ns per loop (mean ± std. dev. of 7 runs, 100000 loops each)\n",
      "n = 10:\n",
      "2.24 ms ± 200 µs per loop (mean ± std. dev. of 7 runs, 100 loops each)\n",
      "n = 15:\n",
      "32.7 ms ± 1.49 ms per loop (mean ± std. dev. of 7 runs, 10 loops each)\n",
      "n = 20:\n",
      "133 ms ± 9.39 ms per loop (mean ± std. dev. of 7 runs, 10 loops each)\n",
      "n = 21:\n",
      "159 ms ± 2.5 ms per loop (mean ± std. dev. of 7 runs, 10 loops each)\n",
      "n = 50:\n",
      "2.65 s ± 388 ms per loop (mean ± std. dev. of 7 runs, 1 loop each)\n"
     ]
    }
   ],
   "source": [
    "items = [(3,4), (5,4), (6,5), (9,7), (1,2)]\n",
    "print(knapsack_memoized(items, 9))\n",
    "for n in [1, 10, 15, 20, 21, 50]:\n",
    "    print(f\"n = {n}:\")\n",
    "    %timeit knapsack_memoized(*make_instance(n, 1000,1000))"
   ]
  },
  {
   "cell_type": "code",
   "execution_count": 21,
   "metadata": {},
   "outputs": [
    {
     "data": {
      "image/png": "[encoded data removed]",
      "text/plain": [
       "<Figure size 432x288 with 1 Axes>"
      ]
     },
     "metadata": {
      "needs_background": "light"
     },
     "output_type": "display_data"
    }
   ],
   "source": [
    "x = [1, 10, 15, 20, 21, 50]\n",
    "y = [3.53, 2.16e3, 33.6e3, 132e3, 187e3, 2.64e6]\n",
    "plt.semilogy(x, y)\n",
    "plt.show()"
   ]
  },
  {
   "cell_type": "markdown",
   "metadata": {},
   "source": [
    "Question (a):\n",
    "------------\n",
    "\n",
    "What are the big-O time and space complexity of `knapsack_memoized`?  Give your answer both as a function of `n` and `C`, and as a function of `n` for an instance of `make_instance(n, 1000, 1000)`.\n",
    "\n",
    "[Hint: the way it maintains the answer set might make it slower than you expect.]\n",
    "\n",
    "\n",
    "**O(C 2^n) for both time and space complexity, because we have 2^n choices for the item list and C choices for the capacity.**"
   ]
  },
  {
   "cell_type": "code",
   "execution_count": 10,
   "metadata": {},
   "outputs": [],
   "source": [
    "# Now let's try the bottom-up DP, with a sliding window.\n",
    "\n",
    "def knapsack_value(items, C):\n",
    "    best = [0]*(C+1)\n",
    "    for w, v in items:\n",
    "        # By iterating t from the end to the beginning, we can keep only one column\n",
    "        for t in range(C, w-1, -1):\n",
    "            best[t] = max(best[t], best[t-w]+v)\n",
    "    return best[C]"
   ]
  },
  {
   "cell_type": "code",
   "execution_count": 11,
   "metadata": {},
   "outputs": [
    {
     "name": "stdout",
     "output_type": "stream",
     "text": [
      "10\n",
      "n = 1:\n",
      "13.9 µs ± 260 ns per loop (mean ± std. dev. of 7 runs, 100000 loops each)\n",
      "n = 10:\n",
      "6.04 ms ± 27.8 µs per loop (mean ± std. dev. of 7 runs, 100 loops each)\n",
      "n = 15:\n",
      "14.5 ms ± 53.8 µs per loop (mean ± std. dev. of 7 runs, 100 loops each)\n",
      "n = 20:\n",
      "26.6 ms ± 185 µs per loop (mean ± std. dev. of 7 runs, 10 loops each)\n",
      "n = 21:\n",
      "29.3 ms ± 209 µs per loop (mean ± std. dev. of 7 runs, 10 loops each)\n",
      "n = 50:\n",
      "177 ms ± 3.54 ms per loop (mean ± std. dev. of 7 runs, 10 loops each)\n"
     ]
    }
   ],
   "source": [
    "items = [(3,4), (5,4), (6,5), (9,7), (1,2)]\n",
    "print(knapsack_value(items, 9))\n",
    "for n in [1, 10, 15, 20, 21, 50]:\n",
    "    print(f\"n = {n}:\")\n",
    "    %timeit knapsack_value(*make_instance(n, 1000,1000))"
   ]
  },
  {
   "cell_type": "code",
   "execution_count": 12,
   "metadata": {},
   "outputs": [],
   "source": [
    "# Python loops are slow.  Let's make it faster by making the inner loop an array operation,\n",
    "# which numpy can do 50-100 times faster than python loops.\n",
    "\n",
    "def knapsack_value_numpy(items, C):\n",
    "    best = np.zeros(C+1)\n",
    "    for w, v in items:\n",
    "        best[w:] = np.max([best[w:], best[:-w] + v], axis=0)\n",
    "    return best[C]"
   ]
  },
  {
   "cell_type": "code",
   "execution_count": 13,
   "metadata": {},
   "outputs": [
    {
     "name": "stdout",
     "output_type": "stream",
     "text": [
      "10.0\n",
      "n = 1:\n",
      "13.9 µs ± 131 ns per loop (mean ± std. dev. of 7 runs, 100000 loops each)\n",
      "n = 10:\n",
      "221 µs ± 10.2 µs per loop (mean ± std. dev. of 7 runs, 1000 loops each)\n",
      "n = 15:\n",
      "412 µs ± 18.2 µs per loop (mean ± std. dev. of 7 runs, 1000 loops each)\n",
      "n = 20:\n",
      "631 µs ± 32.5 µs per loop (mean ± std. dev. of 7 runs, 1000 loops each)\n",
      "n = 21:\n",
      "668 µs ± 35.9 µs per loop (mean ± std. dev. of 7 runs, 1000 loops each)\n",
      "n = 50:\n",
      "3.03 ms ± 223 µs per loop (mean ± std. dev. of 7 runs, 100 loops each)\n"
     ]
    }
   ],
   "source": [
    "items = [(3,4), (5,4), (6,5), (9,7), (1,2)]\n",
    "print(knapsack_value_numpy(items, 9))\n",
    "for n in [1, 10, 15, 20, 21, 50]:\n",
    "    print(f\"n = {n}:\")\n",
    "    %timeit knapsack_value_numpy(*make_instance(n, 1000,1000))"
   ]
  },
  {
   "cell_type": "code",
   "execution_count": 14,
   "metadata": {},
   "outputs": [],
   "source": [
    "# Timing code from fibonacci\n",
    "\n",
    "import timeit\n",
    "\n",
    "def smarter_timeit(f, min_total_time=0.1):\n",
    "    \"\"\"Figure out how long f() takes to run.\n",
    "    \n",
    "    To make the timing reliable, run the function enough times to take min_time seconds overall.\n",
    "    \"\"\"\n",
    "    number = 1\n",
    "    while True:\n",
    "        total_time = timeit.timeit(f, number=number)\n",
    "        if total_time > min_total_time:\n",
    "            return total_time / number\n",
    "        number *= 2\n",
    "        \n",
    "# Get all the data\n",
    "def get_times(func, base=1.01, max_val=None, max_time=2, min_time=0.5):\n",
    "    \"\"\"Get the running time for a given function at many different n.\n",
    "    \n",
    "    Gets the time to compute func(n) for n growing up until it takes\n",
    "    max_time seconds to compute func(n), and return a pair of lists:\n",
    "    the times and corresponding ns. \n",
    "    \"\"\"\n",
    "    nums = []\n",
    "    vals = []\n",
    "    for i in range(1000):\n",
    "        n = int(base**i)\n",
    "        if nums and n == nums[-1]:\n",
    "            continue\n",
    "        if max_val is not None and n > max_val:\n",
    "            break\n",
    "        t = smarter_timeit(lambda: func(n), min_time)\n",
    "        nums.append(n)\n",
    "        vals.append(t)\n",
    "        if t > max_time:\n",
    "            break\n",
    "    return nums, vals"
   ]
  },
  {
   "cell_type": "code",
   "execution_count": 15,
   "metadata": {},
   "outputs": [],
   "source": [
    "funcs = [('memoized', knapsack_memoized),\n",
    "         ('bottom-up', knapsack_value),\n",
    "         ('bottom-up numpy', knapsack_value_numpy),\n",
    "        ]\n",
    "\n",
    "timings = {}\n",
    "\n",
    "for label, f in funcs:\n",
    "    timings[label] = get_times(lambda n: f(*make_instance(n, 1000,1000)), 1.4)"
   ]
  },
  {
   "cell_type": "code",
   "execution_count": 16,
   "metadata": {},
   "outputs": [
    {
     "data": {
      "text/plain": [
       "<matplotlib.legend.Legend at 0x7fcae9d94760>"
      ]
     },
     "execution_count": 16,
     "metadata": {},
     "output_type": "execute_result"
    },
    {
     "data": {
      "image/png": "[encoded data removed]",
      "text/plain": [
       "<Figure size 432x288 with 1 Axes>"
      ]
     },
     "metadata": {
      "needs_background": "light"
     },
     "output_type": "display_data"
    }
   ],
   "source": [
    "for label, times in timings.items():\n",
    "    plt.plot(*times, marker='o', label=label)\n",
    "plt.legend()"
   ]
  },
  {
   "cell_type": "code",
   "execution_count": 17,
   "metadata": {},
   "outputs": [
    {
     "data": {
      "text/plain": [
       "[]"
      ]
     },
     "execution_count": 17,
     "metadata": {},
     "output_type": "execute_result"
    },
    {
     "data": {
      "image/png": "[encoded data removed]",
      "text/plain": [
       "<Figure size 432x288 with 1 Axes>"
      ]
     },
     "metadata": {
      "needs_background": "light"
     },
     "output_type": "display_data"
    }
   ],
   "source": [
    "for label, times in timings.items():\n",
    "    plt.plot(*times, marker='o', label=label)\n",
    "plt.legend()\n",
    "plt.loglog()"
   ]
  },
  {
   "cell_type": "markdown",
   "metadata": {},
   "source": [
    "Question (b):\n",
    "----------------\n",
    "\n",
    "In our input instances, both the weights and values are small integers, bounded by `B = 1000`.  What is the running time as a function of `n` and `B`?\n",
    "\n",
    "Does the growth with `n` conform to what you see on this log-log plot?\n",
    "\n",
    "O(nC) because C scales as n*B, so O(n^2*B)\n",
    "\n",
    "T = a*n^2\n",
    "\n",
    "log(T) = a + 2*log(n)\n",
    "if we were correct, the relation should be a linear line with a slope of 2 on the loglog plot. In the plot, the slope of the bottom-up is slightly larger than 2 and the slope of the np version is less than 2, due to some overhead and optimization/vectorized calculations with numpy.\n",
    "\n",
    "\n",
    "\n"
   ]
  },
  {
   "cell_type": "markdown",
   "metadata": {},
   "source": [
    "Question (c):\n",
    "--------------\n",
    "Implement a version of `knapsack_value` or `knapsack_value_numpy` that also finds the set of items.\n",
    "\n",
    "(You may use O(nC) space if you prefer.  Also implementing the O(C) space algorithm, and comparing to the O(nC) space algorithm, is a fun challenge.)"
   ]
  },
  {
   "cell_type": "code",
   "execution_count": 48,
   "metadata": {},
   "outputs": [],
   "source": [
    "def knapsack_set(items, C):\n",
    "    best = [0]*(C+1)\n",
    "    best_set = [[]]*(C+1)\n",
    "    for w, v in items:\n",
    "        # By iterating t from the end to the beginning, we can keep only one column\n",
    "        for t in range(C, w-1, -1):\n",
    "            if best[t] < best[t-w] + v:\n",
    "                best[t] = best[t-w] + v\n",
    "                best_set[t] = (w, v)\n",
    "    solution = []\n",
    "    w_left = C\n",
    "    while w_left > 0:\n",
    "        if best_set[w_left]:\n",
    "            w, v = best_set[w_left]\n",
    "            solution.append((w, v))\n",
    "        w_left -= w\n",
    "    return solution"
   ]
  },
  {
   "cell_type": "code",
   "execution_count": 49,
   "metadata": {},
   "outputs": [
    {
     "name": "stdout",
     "output_type": "stream",
     "text": [
      "[(1, 2), (5, 4), (3, 4)]\n"
     ]
    }
   ],
   "source": [
    "items = [(3,4), (5,4), (6,5), (9,7), (1,2)]\n",
    "print(knapsack_set(items, 9))"
   ]
  },
  {
   "cell_type": "markdown",
   "metadata": {},
   "source": [
    "Question (d)\n",
    "----------------\n",
    "\n",
    "How does the timing of your `knapsack_set` compare to `knapsack_value`, both theoretically and empirically?\n",
    "\n",
    "The extra part is to get the set from the last item list at each C through the while loop, which takes O(n). So the over all time compleixty for the knapset_set algorithm is still O(n^2).\n",
    "\n",
    "This is confirmed by the plot below."
   ]
  },
  {
   "cell_type": "code",
   "execution_count": 50,
   "metadata": {},
   "outputs": [],
   "source": [
    "funcs = [\n",
    "         ('value', knapsack_value),\n",
    "         ('set', knapsack_set),\n",
    "        ]\n",
    "\n",
    "timings = {}\n",
    "\n",
    "for label, f in funcs:\n",
    "    timings[label] = get_times(lambda n: f(*make_instance(n, 1000,1000)), 1.4)"
   ]
  },
  {
   "cell_type": "code",
   "execution_count": 53,
   "metadata": {},
   "outputs": [
    {
     "data": {
      "text/plain": [
       "<matplotlib.legend.Legend at 0x7fcaa6f57b80>"
      ]
     },
     "execution_count": 53,
     "metadata": {},
     "output_type": "execute_result"
    },
    {
     "data": {
      "image/png": "[encoded data removed]",
      "text/plain": [
       "<Figure size 432x288 with 1 Axes>"
      ]
     },
     "metadata": {
      "needs_background": "light"
     },
     "output_type": "display_data"
    }
   ],
   "source": [
    "for label, times in timings.items():\n",
    "    plt.plot(*times, marker='o', label=label)\n",
    "plt.legend()"
   ]
  },
  {
   "cell_type": "markdown",
   "metadata": {},
   "source": [
    "Question (e)   _(optional)_ \n",
    "------------\n",
    "\n",
    "The knapsack problem is in general NP-hard when both the weights and values are arbitrary real numbers.\n",
    "However, _random instances_ like those generated by `make_instance(n, 2**30, 2**30)` are actually easy to\n",
    "solve in polynomial time with high probability.\n",
    "\n",
    "Design and implement an algorithm that can do so.  (No proof necessary, just empirical evidence)\n",
    "\n",
    "Hint: The `best` array from knapsack_value is usually highly redundant, and the set of \"Pareto-optimal\" (weight, value) possibilities is much smaller."
   ]
  },
  {
   "cell_type": "code",
   "execution_count": 19,
   "metadata": {},
   "outputs": [],
   "source": [
    "def knapsack_value_high(items, C):\n",
    "    ...\n",
    "    return best[-1][1]"
   ]
  },
  {
   "cell_type": "code",
   "execution_count": 20,
   "metadata": {},
   "outputs": [
    {
     "ename": "NameError",
     "evalue": "name 'best' is not defined",
     "output_type": "error",
     "traceback": [
      "\u001b[0;31m---------------------------------------------------------------------------\u001b[0m",
      "\u001b[0;31mNameError\u001b[0m                                 Traceback (most recent call last)",
      "\u001b[0;32m<ipython-input-20-b4d2705036fe>\u001b[0m in \u001b[0;36m<module>\u001b[0;34m\u001b[0m\n\u001b[1;32m      1\u001b[0m \u001b[0mrandom\u001b[0m\u001b[0;34m.\u001b[0m\u001b[0mseed\u001b[0m\u001b[0;34m(\u001b[0m\u001b[0;36m3\u001b[0m\u001b[0;34m)\u001b[0m\u001b[0;34m\u001b[0m\u001b[0;34m\u001b[0m\u001b[0m\n\u001b[0;32m----> 2\u001b[0;31m \u001b[0mprint\u001b[0m\u001b[0;34m(\u001b[0m\u001b[0mknapsack_value_high\u001b[0m\u001b[0;34m(\u001b[0m\u001b[0;34m*\u001b[0m\u001b[0mmake_instance\u001b[0m\u001b[0;34m(\u001b[0m\u001b[0;36m100\u001b[0m\u001b[0;34m,\u001b[0m \u001b[0;36m2\u001b[0m\u001b[0;34m**\u001b[0m\u001b[0;36m30\u001b[0m\u001b[0;34m,\u001b[0m\u001b[0;36m2\u001b[0m\u001b[0;34m**\u001b[0m\u001b[0;36m30\u001b[0m\u001b[0;34m)\u001b[0m\u001b[0;34m)\u001b[0m\u001b[0;34m)\u001b[0m\u001b[0;34m\u001b[0m\u001b[0;34m\u001b[0m\u001b[0m\n\u001b[0m\u001b[1;32m      3\u001b[0m \u001b[0;31m# Should give: 48957779005\u001b[0m\u001b[0;34m\u001b[0m\u001b[0;34m\u001b[0m\u001b[0;34m\u001b[0m\u001b[0m\n\u001b[1;32m      4\u001b[0m \u001b[0;34m\u001b[0m\u001b[0m\n\u001b[1;32m      5\u001b[0m \u001b[0mget_ipython\u001b[0m\u001b[0;34m(\u001b[0m\u001b[0;34m)\u001b[0m\u001b[0;34m.\u001b[0m\u001b[0mrun_line_magic\u001b[0m\u001b[0;34m(\u001b[0m\u001b[0;34m'timeit'\u001b[0m\u001b[0;34m,\u001b[0m \u001b[0;34m'knapsack_value_high(*make_instance(100, 2**30,2**30))'\u001b[0m\u001b[0;34m)\u001b[0m\u001b[0;34m\u001b[0m\u001b[0;34m\u001b[0m\u001b[0m\n",
      "\u001b[0;32m<ipython-input-19-92919311543f>\u001b[0m in \u001b[0;36mknapsack_value_high\u001b[0;34m(items, C)\u001b[0m\n\u001b[1;32m      1\u001b[0m \u001b[0;32mdef\u001b[0m \u001b[0mknapsack_value_high\u001b[0m\u001b[0;34m(\u001b[0m\u001b[0mitems\u001b[0m\u001b[0;34m,\u001b[0m \u001b[0mC\u001b[0m\u001b[0;34m)\u001b[0m\u001b[0;34m:\u001b[0m\u001b[0;34m\u001b[0m\u001b[0;34m\u001b[0m\u001b[0m\n\u001b[1;32m      2\u001b[0m     \u001b[0;34m...\u001b[0m\u001b[0;34m\u001b[0m\u001b[0;34m\u001b[0m\u001b[0m\n\u001b[0;32m----> 3\u001b[0;31m     \u001b[0;32mreturn\u001b[0m \u001b[0mbest\u001b[0m\u001b[0;34m[\u001b[0m\u001b[0;34m-\u001b[0m\u001b[0;36m1\u001b[0m\u001b[0;34m]\u001b[0m\u001b[0;34m[\u001b[0m\u001b[0;36m1\u001b[0m\u001b[0;34m]\u001b[0m\u001b[0;34m\u001b[0m\u001b[0;34m\u001b[0m\u001b[0m\n\u001b[0m",
      "\u001b[0;31mNameError\u001b[0m: name 'best' is not defined"
     ]
    }
   ],
   "source": [
    "random.seed(3)\n",
    "print(knapsack_value_high(*make_instance(100, 2**30,2**30)))\n",
    "# Should give: 48957779005\n",
    "\n",
    "%timeit knapsack_value_high(*make_instance(100, 2**30,2**30))\n",
    "# My code is 10 lines long and takes 11 ms per loop\n"
   ]
  },
  {
   "cell_type": "code",
   "execution_count": null,
   "metadata": {},
   "outputs": [],
   "source": []
  }
 ],
 "metadata": {
  "kernelspec": {
   "display_name": "Python 3",
   "language": "python",
   "name": "python3"
  },
  "language_info": {
   "codemirror_mode": {
    "name": "ipython",
    "version": 3
   },
   "file_extension": ".py",
   "mimetype": "text/x-python",
   "name": "python",
   "nbconvert_exporter": "python",
   "pygments_lexer": "ipython3",
   "version": "3.8.5"
  }
 },
 "nbformat": 4,
 "nbformat_minor": 2
}
